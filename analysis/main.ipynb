{
 "cells": [
  {
   "cell_type": "markdown",
   "metadata": {},
   "source": [
    "# I-Race"
   ]
  },
  {
   "cell_type": "code",
   "execution_count": 84,
   "metadata": {},
   "outputs": [
    {
     "data": {
      "text/plain": [
       "#11 (generic function with 1 method)"
      ]
     },
     "execution_count": 84,
     "metadata": {},
     "output_type": "execute_result"
    }
   ],
   "source": [
    "using BiPlots, Metaheuristics, RCall, JLD\n",
    "using Bilevel\n",
    "using DataFrames\n",
    "\n",
    "gr()\n",
    "R\"\"\" \n",
    "library(irace)\n",
    "getBestParms <- function(alg){\n",
    "   dt <- data.frame()\n",
    "   for(i in 1:10){\n",
    "       fname = paste(\"data/irace/irace-\", alg, \"-\", i, \".Rdata\", sep=\"\")\n",
    "       load(fname)\n",
    "       best.config <- getFinalElites(iraceResults = iraceResults, n = 1)\n",
    "       dt = rbind(dt, best.config)\n",
    "   }\n",
    "\n",
    "   return(dt[,c(-1, -ncol(dt))])\n",
    "}\n",
    "\"\"\"\n",
    "\n",
    "import Base.+\n",
    "+(a::String, b::String) = string(a, b)\n",
    "\n",
    "getBestParms = @rget getBestParms \n"
   ]
  },
  {
   "cell_type": "code",
   "execution_count": 67,
   "metadata": {},
   "outputs": [
    {
     "data": {
      "text/html": [
       "<table class=\"data-frame\"><thead><tr><th></th><th>N</th><th>limit</th><th>Ne</th></tr><tr><th></th><th>Float64</th><th>Float64</th><th>Float64</th></tr></thead><tbody><p>10 rows × 3 columns</p><tr><th>1</th><td>273.0</td><td>216.0</td><td>0.179173</td></tr><tr><th>2</th><td>357.0</td><td>722.0</td><td>0.555798</td></tr><tr><th>3</th><td>273.0</td><td>216.0</td><td>0.179173</td></tr><tr><th>4</th><td>301.0</td><td>187.0</td><td>0.291851</td></tr><tr><th>5</th><td>320.0</td><td>170.0</td><td>0.210675</td></tr><tr><th>6</th><td>317.0</td><td>83.0</td><td>0.249801</td></tr><tr><th>7</th><td>325.0</td><td>72.0</td><td>0.442315</td></tr><tr><th>8</th><td>352.0</td><td>783.0</td><td>0.318848</td></tr><tr><th>9</th><td>270.0</td><td>164.0</td><td>0.374526</td></tr><tr><th>10</th><td>253.0</td><td>435.0</td><td>0.312723</td></tr></tbody></table>"
      ],
      "text/latex": [
       "\\begin{tabular}{r|ccc}\n",
       "\t& N & limit & Ne\\\\\n",
       "\t\\hline\n",
       "\t& Float64 & Float64 & Float64\\\\\n",
       "\t\\hline\n",
       "\t1 & 273.0 & 216.0 & 0.179173 \\\\\n",
       "\t2 & 357.0 & 722.0 & 0.555798 \\\\\n",
       "\t3 & 273.0 & 216.0 & 0.179173 \\\\\n",
       "\t4 & 301.0 & 187.0 & 0.291851 \\\\\n",
       "\t5 & 320.0 & 170.0 & 0.210675 \\\\\n",
       "\t6 & 317.0 & 83.0 & 0.249801 \\\\\n",
       "\t7 & 325.0 & 72.0 & 0.442315 \\\\\n",
       "\t8 & 352.0 & 783.0 & 0.318848 \\\\\n",
       "\t9 & 270.0 & 164.0 & 0.374526 \\\\\n",
       "\t10 & 253.0 & 435.0 & 0.312723 \\\\\n",
       "\\end{tabular}\n"
      ],
      "text/plain": [
       "10×3 DataFrame\n",
       "│ Row │ N       │ limit   │ Ne       │\n",
       "│     │ \u001b[90mFloat64\u001b[39m │ \u001b[90mFloat64\u001b[39m │ \u001b[90mFloat64\u001b[39m  │\n",
       "├─────┼─────────┼─────────┼──────────┤\n",
       "│ 1   │ 273.0   │ 216.0   │ 0.179173 │\n",
       "│ 2   │ 357.0   │ 722.0   │ 0.555798 │\n",
       "│ 3   │ 273.0   │ 216.0   │ 0.179173 │\n",
       "│ 4   │ 301.0   │ 187.0   │ 0.291851 │\n",
       "│ 5   │ 320.0   │ 170.0   │ 0.210675 │\n",
       "│ 6   │ 317.0   │ 83.0    │ 0.249801 │\n",
       "│ 7   │ 325.0   │ 72.0    │ 0.442315 │\n",
       "│ 8   │ 352.0   │ 783.0   │ 0.318848 │\n",
       "│ 9   │ 270.0   │ 164.0   │ 0.374526 │\n",
       "│ 10  │ 253.0   │ 435.0   │ 0.312723 │"
      ]
     },
     "execution_count": 67,
     "metadata": {},
     "output_type": "execute_result"
    }
   ],
   "source": [
    "df =  getBestParms(\"abc\")"
   ]
  },
  {
   "cell_type": "code",
   "execution_count": 3,
   "metadata": {},
   "outputs": [
    {
     "data": {
      "text/html": [
       "<table class=\"data-frame\"><thead><tr><th></th><th>N</th><th>K</th><th>eta</th></tr><tr><th></th><th>Float64</th><th>Float64</th><th>Float64</th></tr></thead><tbody><p>10 rows × 3 columns</p><tr><th>1</th><td>137.0</td><td>7.0</td><td>2.01618</td></tr><tr><th>2</th><td>188.0</td><td>9.0</td><td>1.44728</td></tr><tr><th>3</th><td>125.0</td><td>8.0</td><td>1.92119</td></tr><tr><th>4</th><td>247.0</td><td>5.0</td><td>1.19884</td></tr><tr><th>5</th><td>189.0</td><td>3.0</td><td>1.36896</td></tr><tr><th>6</th><td>154.0</td><td>5.0</td><td>1.36247</td></tr><tr><th>7</th><td>204.0</td><td>8.0</td><td>1.01588</td></tr><tr><th>8</th><td>181.0</td><td>4.0</td><td>1.59761</td></tr><tr><th>9</th><td>179.0</td><td>10.0</td><td>1.78571</td></tr><tr><th>10</th><td>137.0</td><td>7.0</td><td>2.01618</td></tr></tbody></table>"
      ],
      "text/latex": [
       "\\begin{tabular}{r|ccc}\n",
       "\t& N & K & eta\\\\\n",
       "\t\\hline\n",
       "\t& Float64 & Float64 & Float64\\\\\n",
       "\t\\hline\n",
       "\t1 & 137.0 & 7.0 & 2.01618 \\\\\n",
       "\t2 & 188.0 & 9.0 & 1.44728 \\\\\n",
       "\t3 & 125.0 & 8.0 & 1.92119 \\\\\n",
       "\t4 & 247.0 & 5.0 & 1.19884 \\\\\n",
       "\t5 & 189.0 & 3.0 & 1.36896 \\\\\n",
       "\t6 & 154.0 & 5.0 & 1.36247 \\\\\n",
       "\t7 & 204.0 & 8.0 & 1.01588 \\\\\n",
       "\t8 & 181.0 & 4.0 & 1.59761 \\\\\n",
       "\t9 & 179.0 & 10.0 & 1.78571 \\\\\n",
       "\t10 & 137.0 & 7.0 & 2.01618 \\\\\n",
       "\\end{tabular}\n"
      ],
      "text/plain": [
       "10×3 DataFrames.DataFrame\n",
       "│ Row │ N       │ K       │ eta     │\n",
       "│     │ \u001b[90mFloat64\u001b[39m │ \u001b[90mFloat64\u001b[39m │ \u001b[90mFloat64\u001b[39m │\n",
       "├─────┼─────────┼─────────┼─────────┤\n",
       "│ 1   │ 137.0   │ 7.0     │ 2.01618 │\n",
       "│ 2   │ 188.0   │ 9.0     │ 1.44728 │\n",
       "│ 3   │ 125.0   │ 8.0     │ 1.92119 │\n",
       "│ 4   │ 247.0   │ 5.0     │ 1.19884 │\n",
       "│ 5   │ 189.0   │ 3.0     │ 1.36896 │\n",
       "│ 6   │ 154.0   │ 5.0     │ 1.36247 │\n",
       "│ 7   │ 204.0   │ 8.0     │ 1.01588 │\n",
       "│ 8   │ 181.0   │ 4.0     │ 1.59761 │\n",
       "│ 9   │ 179.0   │ 10.0    │ 1.78571 │\n",
       "│ 10  │ 137.0   │ 7.0     │ 2.01618 │"
      ]
     },
     "execution_count": 3,
     "metadata": {},
     "output_type": "execute_result"
    }
   ],
   "source": [
    "df =  getBestParms(\"eca\")\n",
    "df"
   ]
  },
  {
   "cell_type": "code",
   "execution_count": 4,
   "metadata": {},
   "outputs": [
    {
     "data": {
      "text/html": [
       "<table class=\"data-frame\"><thead><tr><th></th><th>N</th><th>F</th><th>CR</th></tr><tr><th></th><th>Float64</th><th>Float64</th><th>Float64</th></tr></thead><tbody><p>10 rows × 3 columns</p><tr><th>1</th><td>13.0</td><td>0.462729</td><td>0.117163</td></tr><tr><th>2</th><td>35.0</td><td>0.468767</td><td>0.865054</td></tr><tr><th>3</th><td>22.0</td><td>0.987232</td><td>0.78687</td></tr><tr><th>4</th><td>13.0</td><td>0.744198</td><td>0.236023</td></tr><tr><th>5</th><td>26.0</td><td>0.575771</td><td>0.817107</td></tr><tr><th>6</th><td>13.0</td><td>0.5337</td><td>0.200412</td></tr><tr><th>7</th><td>16.0</td><td>0.499888</td><td>0.173194</td></tr><tr><th>8</th><td>57.0</td><td>0.600528</td><td>0.97588</td></tr><tr><th>9</th><td>14.0</td><td>0.495335</td><td>0.317386</td></tr><tr><th>10</th><td>13.0</td><td>0.462729</td><td>0.117163</td></tr></tbody></table>"
      ],
      "text/latex": [
       "\\begin{tabular}{r|ccc}\n",
       "\t& N & F & CR\\\\\n",
       "\t\\hline\n",
       "\t& Float64 & Float64 & Float64\\\\\n",
       "\t\\hline\n",
       "\t1 & 13.0 & 0.462729 & 0.117163 \\\\\n",
       "\t2 & 35.0 & 0.468767 & 0.865054 \\\\\n",
       "\t3 & 22.0 & 0.987232 & 0.78687 \\\\\n",
       "\t4 & 13.0 & 0.744198 & 0.236023 \\\\\n",
       "\t5 & 26.0 & 0.575771 & 0.817107 \\\\\n",
       "\t6 & 13.0 & 0.5337 & 0.200412 \\\\\n",
       "\t7 & 16.0 & 0.499888 & 0.173194 \\\\\n",
       "\t8 & 57.0 & 0.600528 & 0.97588 \\\\\n",
       "\t9 & 14.0 & 0.495335 & 0.317386 \\\\\n",
       "\t10 & 13.0 & 0.462729 & 0.117163 \\\\\n",
       "\\end{tabular}\n"
      ],
      "text/plain": [
       "10×3 DataFrames.DataFrame\n",
       "│ Row │ N       │ F        │ CR       │\n",
       "│     │ \u001b[90mFloat64\u001b[39m │ \u001b[90mFloat64\u001b[39m  │ \u001b[90mFloat64\u001b[39m  │\n",
       "├─────┼─────────┼──────────┼──────────┤\n",
       "│ 1   │ 13.0    │ 0.462729 │ 0.117163 │\n",
       "│ 2   │ 35.0    │ 0.468767 │ 0.865054 │\n",
       "│ 3   │ 22.0    │ 0.987232 │ 0.78687  │\n",
       "│ 4   │ 13.0    │ 0.744198 │ 0.236023 │\n",
       "│ 5   │ 26.0    │ 0.575771 │ 0.817107 │\n",
       "│ 6   │ 13.0    │ 0.5337   │ 0.200412 │\n",
       "│ 7   │ 16.0    │ 0.499888 │ 0.173194 │\n",
       "│ 8   │ 57.0    │ 0.600528 │ 0.97588  │\n",
       "│ 9   │ 14.0    │ 0.495335 │ 0.317386 │\n",
       "│ 10  │ 13.0    │ 0.462729 │ 0.117163 │"
      ]
     },
     "execution_count": 4,
     "metadata": {},
     "output_type": "execute_result"
    }
   ],
   "source": [
    "df =  getBestParms(\"ed\")\n",
    "df"
   ]
  },
  {
   "cell_type": "code",
   "execution_count": 5,
   "metadata": {},
   "outputs": [
    {
     "data": {
      "text/html": [
       "<table class=\"data-frame\"><thead><tr><th></th><th>N</th><th>C1</th><th>C2</th><th>omega</th></tr><tr><th></th><th>Float64</th><th>Float64</th><th>Float64</th><th>Float64</th></tr></thead><tbody><p>10 rows × 4 columns</p><tr><th>1</th><td>414.0</td><td>0.914002</td><td>2.90323</td><td>0.36353</td></tr><tr><th>2</th><td>433.0</td><td>0.786563</td><td>3.2032</td><td>0.382314</td></tr><tr><th>3</th><td>381.0</td><td>3.15365</td><td>0.923493</td><td>0.534409</td></tr><tr><th>4</th><td>344.0</td><td>0.324315</td><td>3.2211</td><td>0.492841</td></tr><tr><th>5</th><td>351.0</td><td>2.19329</td><td>1.89468</td><td>0.625818</td></tr><tr><th>6</th><td>297.0</td><td>0.488361</td><td>2.89199</td><td>0.479847</td></tr><tr><th>7</th><td>488.0</td><td>0.374345</td><td>1.1869</td><td>0.753773</td></tr><tr><th>8</th><td>371.0</td><td>2.24618</td><td>1.92512</td><td>0.678153</td></tr><tr><th>9</th><td>324.0</td><td>3.4954</td><td>0.792152</td><td>0.550182</td></tr><tr><th>10</th><td>414.0</td><td>0.914002</td><td>2.90323</td><td>0.36353</td></tr></tbody></table>"
      ],
      "text/latex": [
       "\\begin{tabular}{r|cccc}\n",
       "\t& N & C1 & C2 & omega\\\\\n",
       "\t\\hline\n",
       "\t& Float64 & Float64 & Float64 & Float64\\\\\n",
       "\t\\hline\n",
       "\t1 & 414.0 & 0.914002 & 2.90323 & 0.36353 \\\\\n",
       "\t2 & 433.0 & 0.786563 & 3.2032 & 0.382314 \\\\\n",
       "\t3 & 381.0 & 3.15365 & 0.923493 & 0.534409 \\\\\n",
       "\t4 & 344.0 & 0.324315 & 3.2211 & 0.492841 \\\\\n",
       "\t5 & 351.0 & 2.19329 & 1.89468 & 0.625818 \\\\\n",
       "\t6 & 297.0 & 0.488361 & 2.89199 & 0.479847 \\\\\n",
       "\t7 & 488.0 & 0.374345 & 1.1869 & 0.753773 \\\\\n",
       "\t8 & 371.0 & 2.24618 & 1.92512 & 0.678153 \\\\\n",
       "\t9 & 324.0 & 3.4954 & 0.792152 & 0.550182 \\\\\n",
       "\t10 & 414.0 & 0.914002 & 2.90323 & 0.36353 \\\\\n",
       "\\end{tabular}\n"
      ],
      "text/plain": [
       "10×4 DataFrames.DataFrame\n",
       "│ Row │ N       │ C1       │ C2       │ omega    │\n",
       "│     │ \u001b[90mFloat64\u001b[39m │ \u001b[90mFloat64\u001b[39m  │ \u001b[90mFloat64\u001b[39m  │ \u001b[90mFloat64\u001b[39m  │\n",
       "├─────┼─────────┼──────────┼──────────┼──────────┤\n",
       "│ 1   │ 414.0   │ 0.914002 │ 2.90323  │ 0.36353  │\n",
       "│ 2   │ 433.0   │ 0.786563 │ 3.2032   │ 0.382314 │\n",
       "│ 3   │ 381.0   │ 3.15365  │ 0.923493 │ 0.534409 │\n",
       "│ 4   │ 344.0   │ 0.324315 │ 3.2211   │ 0.492841 │\n",
       "│ 5   │ 351.0   │ 2.19329  │ 1.89468  │ 0.625818 │\n",
       "│ 6   │ 297.0   │ 0.488361 │ 2.89199  │ 0.479847 │\n",
       "│ 7   │ 488.0   │ 0.374345 │ 1.1869   │ 0.753773 │\n",
       "│ 8   │ 371.0   │ 2.24618  │ 1.92512  │ 0.678153 │\n",
       "│ 9   │ 324.0   │ 3.4954   │ 0.792152 │ 0.550182 │\n",
       "│ 10  │ 414.0   │ 0.914002 │ 2.90323  │ 0.36353  │"
      ]
     },
     "execution_count": 5,
     "metadata": {},
     "output_type": "execute_result"
    }
   ],
   "source": [
    "df =  getBestParms(\"pso\")\n",
    "df"
   ]
  },
  {
   "cell_type": "markdown",
   "metadata": {},
   "source": [
    "# BCAP Results"
   ]
  },
  {
   "cell_type": "code",
   "execution_count": 71,
   "metadata": {},
   "outputs": [
    {
     "data": {
      "text/html": [
       "<table class=\"data-frame\"><thead><tr><th></th><th>x1</th><th>x2</th><th>x3</th><th>x4</th></tr><tr><th></th><th>Float64</th><th>Float64</th><th>Float64</th><th>Float64</th></tr></thead><tbody><p>10 rows × 4 columns</p><tr><th>1</th><td>496.0</td><td>1.35113</td><td>2.79215</td><td>0.52687</td></tr><tr><th>2</th><td>233.0</td><td>2.93064</td><td>1.75642</td><td>0.585752</td></tr><tr><th>3</th><td>491.0</td><td>0.274859</td><td>3.17783</td><td>0.556804</td></tr><tr><th>4</th><td>373.0</td><td>1.6792</td><td>1.80418</td><td>0.767235</td></tr><tr><th>5</th><td>197.0</td><td>1.39675</td><td>0.474984</td><td>0.866676</td></tr><tr><th>6</th><td>401.0</td><td>1.03562</td><td>2.12945</td><td>0.596021</td></tr><tr><th>7</th><td>234.0</td><td>3.38714</td><td>0.698861</td><td>0.616088</td></tr><tr><th>8</th><td>483.0</td><td>1.40252</td><td>2.73114</td><td>0.622582</td></tr><tr><th>9</th><td>346.0</td><td>0.575735</td><td>2.8554</td><td>0.509554</td></tr><tr><th>10</th><td>302.0</td><td>2.97284</td><td>0.757942</td><td>0.702901</td></tr></tbody></table>"
      ],
      "text/latex": [
       "\\begin{tabular}{r|cccc}\n",
       "\t& x1 & x2 & x3 & x4\\\\\n",
       "\t\\hline\n",
       "\t& Float64 & Float64 & Float64 & Float64\\\\\n",
       "\t\\hline\n",
       "\t1 & 496.0 & 1.35113 & 2.79215 & 0.52687 \\\\\n",
       "\t2 & 233.0 & 2.93064 & 1.75642 & 0.585752 \\\\\n",
       "\t3 & 491.0 & 0.274859 & 3.17783 & 0.556804 \\\\\n",
       "\t4 & 373.0 & 1.6792 & 1.80418 & 0.767235 \\\\\n",
       "\t5 & 197.0 & 1.39675 & 0.474984 & 0.866676 \\\\\n",
       "\t6 & 401.0 & 1.03562 & 2.12945 & 0.596021 \\\\\n",
       "\t7 & 234.0 & 3.38714 & 0.698861 & 0.616088 \\\\\n",
       "\t8 & 483.0 & 1.40252 & 2.73114 & 0.622582 \\\\\n",
       "\t9 & 346.0 & 0.575735 & 2.8554 & 0.509554 \\\\\n",
       "\t10 & 302.0 & 2.97284 & 0.757942 & 0.702901 \\\\\n",
       "\\end{tabular}\n"
      ],
      "text/plain": [
       "10×4 DataFrame\n",
       "│ Row │ x1      │ x2       │ x3       │ x4       │\n",
       "│     │ \u001b[90mFloat64\u001b[39m │ \u001b[90mFloat64\u001b[39m  │ \u001b[90mFloat64\u001b[39m  │ \u001b[90mFloat64\u001b[39m  │\n",
       "├─────┼─────────┼──────────┼──────────┼──────────┤\n",
       "│ 1   │ 496.0   │ 1.35113  │ 2.79215  │ 0.52687  │\n",
       "│ 2   │ 233.0   │ 2.93064  │ 1.75642  │ 0.585752 │\n",
       "│ 3   │ 491.0   │ 0.274859 │ 3.17783  │ 0.556804 │\n",
       "│ 4   │ 373.0   │ 1.6792   │ 1.80418  │ 0.767235 │\n",
       "│ 5   │ 197.0   │ 1.39675  │ 0.474984 │ 0.866676 │\n",
       "│ 6   │ 401.0   │ 1.03562  │ 2.12945  │ 0.596021 │\n",
       "│ 7   │ 234.0   │ 3.38714  │ 0.698861 │ 0.616088 │\n",
       "│ 8   │ 483.0   │ 1.40252  │ 2.73114  │ 0.622582 │\n",
       "│ 9   │ 346.0   │ 0.575735 │ 2.8554   │ 0.509554 │\n",
       "│ 10  │ 302.0   │ 2.97284  │ 0.757942 │ 0.702901 │"
      ]
     },
     "execution_count": 71,
     "metadata": {},
     "output_type": "execute_result"
    }
   ],
   "source": [
    "function getBestParmsBCAP(name)\n",
    "    matrix = []\n",
    "    for i =1:10\n",
    "        fname = \"data/bcap/\" + uppercase(name) + \"_result_CEC17_D10_seed1560229400_run$(i).jld\"\n",
    "        best_sol = load(fname, \"result\").best_sol\n",
    "        push!(matrix, best_sol.x)\n",
    "    end\n",
    "\n",
    "    \n",
    "    matrix = [ matrix[i][j] for i=1:length(matrix), j=1:length(matrix[1]) ]\n",
    "    \n",
    "    return DataFrame(matrix)\n",
    "    \n",
    "end\n",
    "\n",
    "df = getBestParmsBCAP(\"pso\")\n"
   ]
  },
  {
   "cell_type": "markdown",
   "metadata": {},
   "source": [
    "<hr>"
   ]
  },
  {
   "cell_type": "code",
   "execution_count": 123,
   "metadata": {},
   "outputs": [
    {
     "data": {
      "text/plain": [
       "21×21 Array{Int64,2}:\n",
       " 0  0  2  2  2  2  0  1  0  2  0  0  1  1  0  2  2  2  2  0  0\n",
       " 0  0  2  2  2  2  0  1  0  2  0  0  1  1  0  2  2  2  2  0  0\n",
       " 1  1  0  0  0  0  0  0  1  0  0  0  0  0  0  0  0  0  0  1  1\n",
       " 1  1  0  0  0  0  0  0  1  0  0  0  0  0  0  0  0  0  0  1  1\n",
       " 1  1  1  1  0  0  0  0  0  0  0  0  0  0  0  0  0  1  1  1  1\n",
       " 1  1  1  1  0  0  0  0  0  0  0  0  0  0  0  0  0  1  1  1  1\n",
       " 0  0  0  0  0  0  0  0  0  0  0  0  0  0  0  0  0  0  0  0  0\n",
       " 1  1  1  1  0  0  0  0  1  1  0  0  0  0  0  0  0  1  1  1  1\n",
       " 1  1  1  1  0  0  0  1  0  1  0  0  1  1  0  0  0  1  1  1  1\n",
       " 0  0  1  1  0  0  0  0  1  0  0  0  0  0  0  0  0  1  1  0  0\n",
       " 0  0  1  1  0  0  0  0  1  0  0  0  0  0  0  0  0  1  1  0  0\n",
       " 0  0  1  1  0  0  0  0  1  0  0  0  0  0  0  0  0  1  1  0  0\n",
       " 1  1  1  1  0  0  0  0  1  1  0  0  0  0  0  0  0  1  1  1  1\n",
       " 1  1  1  1  0  0  0  0  1  1  0  0  0  0  0  0  0  1  1  1  1\n",
       " 0  0  0  0  0  0  0  0  0  0  0  0  0  0  0  0  0  0  0  0  0\n",
       " 1  1  1  1  0  0  0  0  0  0  0  0  0  0  0  0  0  1  1  1  1\n",
       " 1  1  1  1  0  0  0  0  0  0  0  0  0  0  0  0  0  1  1  1  1\n",
       " 1  1  0  0  0  0  0  0  1  0  0  0  0  0  0  0  0  0  0  1  1\n",
       " 1  1  0  0  0  0  0  0  1  0  0  0  0  0  0  0  0  0  0  1  1\n",
       " 0  0  2  2  2  2  0  1  0  2  0  0  1  1  0  2  2  2  2  0  0\n",
       " 0  0  2  2  2  2  0  1  0  2  0  0  1  1  0  2  2  2  2  0  0"
      ]
     },
     "metadata": {},
     "output_type": "display_data"
    }
   ],
   "source": [
    "using HypothesisTests\n",
    "using Statistics\n",
    "\n",
    "function getBestBCAPData(name, i)\n",
    "    fname = \"data/bcap/\" + uppercase(name) + \"_result_CEC17_D10_seed1560229400_run$(i).jld\"\n",
    "    load(fname, \"result\")\n",
    "end\n",
    "\n",
    "res = getBestBCAPData(\"abc\", 1)\n",
    "\n",
    "pop = res.population\n",
    "\n",
    "matrix = zeros(Int, length(pop), length(pop))\n",
    "\n",
    "fn = 1\n",
    "for i =1:length(pop)\n",
    "    for j=1:length(pop)\n",
    "        for fn = 1:10\n",
    "            s1 = pop[i].y[fn,:]\n",
    "            s2 = pop[j].y[fn,:]\n",
    "            matrix[i, j] += pvalue(SignedRankTest(s1, s2)) < 0.05 && median(s1) < median(s2)\n",
    "        end\n",
    "    end\n",
    "end\n",
    "\n",
    "\n",
    "display(matrix)"
   ]
  },
  {
   "cell_type": "code",
   "execution_count": 73,
   "metadata": {},
   "outputs": [],
   "source": [
    "#scatter(df[1], df[2], df[3], xlim=[10, 500], ylim=[3, 10], zlim=[0, 4])"
   ]
  },
  {
   "cell_type": "code",
   "execution_count": 74,
   "metadata": {},
   "outputs": [],
   "source": [
    "#scatter(df[2], df[3])"
   ]
  },
  {
   "cell_type": "code",
   "execution_count": 115,
   "metadata": {},
   "outputs": [
    {
     "data": {
      "text/plain": [
       "Set(Int64[])"
      ]
     },
     "execution_count": 115,
     "metadata": {},
     "output_type": "execute_result"
    }
   ],
   "source": []
  },
  {
   "cell_type": "code",
   "execution_count": null,
   "metadata": {},
   "outputs": [],
   "source": []
  },
  {
   "cell_type": "code",
   "execution_count": null,
   "metadata": {},
   "outputs": [],
   "source": []
  }
 ],
 "metadata": {
  "@webio": {
   "lastCommId": null,
   "lastKernelId": null
  },
  "kernelspec": {
   "display_name": "Julia 1.1.0",
   "language": "julia",
   "name": "julia-1.1"
  },
  "language_info": {
   "file_extension": ".jl",
   "mimetype": "application/julia",
   "name": "julia",
   "version": "1.1.0"
  }
 },
 "nbformat": 4,
 "nbformat_minor": 2
}
