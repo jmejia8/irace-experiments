{
 "cells": [
  {
   "cell_type": "markdown",
   "metadata": {},
   "source": [
    "# I-Race"
   ]
  },
  {
   "cell_type": "code",
   "execution_count": 96,
   "metadata": {},
   "outputs": [
    {
     "data": {
      "text/plain": [
       "#11 (generic function with 1 method)"
      ]
     },
     "execution_count": 96,
     "metadata": {},
     "output_type": "execute_result"
    }
   ],
   "source": [
    "using BiPlots, Metaheuristics, RCall, JLD\n",
    "using Bilevel\n",
    "using DataFrames\n",
    "using HypothesisTests\n",
    "using Statistics\n",
    "\n",
    "\n",
    "gr()\n",
    "R\"\"\" \n",
    "library(irace)\n",
    "getBestParms <- function(alg){\n",
    "   dt <- data.frame()\n",
    "   for(i in 1:10){\n",
    "       fname = paste(\"data/irace/irace-\", alg, \"-\", i, \".Rdata\", sep=\"\")\n",
    "       load(fname)\n",
    "       best.config <- getFinalElites(iraceResults = iraceResults, n = 1)\n",
    "       dt = rbind(dt, best.config)\n",
    "   }\n",
    "\n",
    "   return(dt[,c(-1, -ncol(dt))])\n",
    "}\n",
    "\"\"\"\n",
    "\n",
    "import Base.+\n",
    "+(a::String, b::String) = string(a, b)\n",
    "\n",
    "getBestParms = @rget getBestParms \n"
   ]
  },
  {
   "cell_type": "code",
   "execution_count": 25,
   "metadata": {},
   "outputs": [
    {
     "data": {
      "text/html": [
       "<table class=\"data-frame\"><thead><tr><th></th><th>N</th><th>limit</th><th>Ne</th></tr><tr><th></th><th>Float64</th><th>Float64</th><th>Float64</th></tr></thead><tbody><p>10 rows × 3 columns</p><tr><th>1</th><td>273.0</td><td>216.0</td><td>0.179173</td></tr><tr><th>2</th><td>357.0</td><td>722.0</td><td>0.555798</td></tr><tr><th>3</th><td>273.0</td><td>216.0</td><td>0.179173</td></tr><tr><th>4</th><td>301.0</td><td>187.0</td><td>0.291851</td></tr><tr><th>5</th><td>320.0</td><td>170.0</td><td>0.210675</td></tr><tr><th>6</th><td>317.0</td><td>83.0</td><td>0.249801</td></tr><tr><th>7</th><td>325.0</td><td>72.0</td><td>0.442315</td></tr><tr><th>8</th><td>352.0</td><td>783.0</td><td>0.318848</td></tr><tr><th>9</th><td>270.0</td><td>164.0</td><td>0.374526</td></tr><tr><th>10</th><td>253.0</td><td>435.0</td><td>0.312723</td></tr></tbody></table>"
      ],
      "text/latex": [
       "\\begin{tabular}{r|ccc}\n",
       "\t& N & limit & Ne\\\\\n",
       "\t\\hline\n",
       "\t& Float64 & Float64 & Float64\\\\\n",
       "\t\\hline\n",
       "\t1 & 273.0 & 216.0 & 0.179173 \\\\\n",
       "\t2 & 357.0 & 722.0 & 0.555798 \\\\\n",
       "\t3 & 273.0 & 216.0 & 0.179173 \\\\\n",
       "\t4 & 301.0 & 187.0 & 0.291851 \\\\\n",
       "\t5 & 320.0 & 170.0 & 0.210675 \\\\\n",
       "\t6 & 317.0 & 83.0 & 0.249801 \\\\\n",
       "\t7 & 325.0 & 72.0 & 0.442315 \\\\\n",
       "\t8 & 352.0 & 783.0 & 0.318848 \\\\\n",
       "\t9 & 270.0 & 164.0 & 0.374526 \\\\\n",
       "\t10 & 253.0 & 435.0 & 0.312723 \\\\\n",
       "\\end{tabular}\n"
      ],
      "text/plain": [
       "10×3 DataFrame\n",
       "│ Row │ N       │ limit   │ Ne       │\n",
       "│     │ \u001b[90mFloat64\u001b[39m │ \u001b[90mFloat64\u001b[39m │ \u001b[90mFloat64\u001b[39m  │\n",
       "├─────┼─────────┼─────────┼──────────┤\n",
       "│ 1   │ 273.0   │ 216.0   │ 0.179173 │\n",
       "│ 2   │ 357.0   │ 722.0   │ 0.555798 │\n",
       "│ 3   │ 273.0   │ 216.0   │ 0.179173 │\n",
       "│ 4   │ 301.0   │ 187.0   │ 0.291851 │\n",
       "│ 5   │ 320.0   │ 170.0   │ 0.210675 │\n",
       "│ 6   │ 317.0   │ 83.0    │ 0.249801 │\n",
       "│ 7   │ 325.0   │ 72.0    │ 0.442315 │\n",
       "│ 8   │ 352.0   │ 783.0   │ 0.318848 │\n",
       "│ 9   │ 270.0   │ 164.0   │ 0.374526 │\n",
       "│ 10  │ 253.0   │ 435.0   │ 0.312723 │"
      ]
     },
     "execution_count": 25,
     "metadata": {},
     "output_type": "execute_result"
    }
   ],
   "source": [
    "df =  getBestParms(\"abc\")"
   ]
  },
  {
   "cell_type": "code",
   "execution_count": 26,
   "metadata": {},
   "outputs": [
    {
     "data": {
      "text/html": [
       "<table class=\"data-frame\"><thead><tr><th></th><th>N</th><th>K</th><th>eta</th></tr><tr><th></th><th>Float64</th><th>Float64</th><th>Float64</th></tr></thead><tbody><p>10 rows × 3 columns</p><tr><th>1</th><td>137.0</td><td>7.0</td><td>2.01618</td></tr><tr><th>2</th><td>188.0</td><td>9.0</td><td>1.44728</td></tr><tr><th>3</th><td>125.0</td><td>8.0</td><td>1.92119</td></tr><tr><th>4</th><td>247.0</td><td>5.0</td><td>1.19884</td></tr><tr><th>5</th><td>189.0</td><td>3.0</td><td>1.36896</td></tr><tr><th>6</th><td>154.0</td><td>5.0</td><td>1.36247</td></tr><tr><th>7</th><td>204.0</td><td>8.0</td><td>1.01588</td></tr><tr><th>8</th><td>181.0</td><td>4.0</td><td>1.59761</td></tr><tr><th>9</th><td>179.0</td><td>10.0</td><td>1.78571</td></tr><tr><th>10</th><td>137.0</td><td>7.0</td><td>2.01618</td></tr></tbody></table>"
      ],
      "text/latex": [
       "\\begin{tabular}{r|ccc}\n",
       "\t& N & K & eta\\\\\n",
       "\t\\hline\n",
       "\t& Float64 & Float64 & Float64\\\\\n",
       "\t\\hline\n",
       "\t1 & 137.0 & 7.0 & 2.01618 \\\\\n",
       "\t2 & 188.0 & 9.0 & 1.44728 \\\\\n",
       "\t3 & 125.0 & 8.0 & 1.92119 \\\\\n",
       "\t4 & 247.0 & 5.0 & 1.19884 \\\\\n",
       "\t5 & 189.0 & 3.0 & 1.36896 \\\\\n",
       "\t6 & 154.0 & 5.0 & 1.36247 \\\\\n",
       "\t7 & 204.0 & 8.0 & 1.01588 \\\\\n",
       "\t8 & 181.0 & 4.0 & 1.59761 \\\\\n",
       "\t9 & 179.0 & 10.0 & 1.78571 \\\\\n",
       "\t10 & 137.0 & 7.0 & 2.01618 \\\\\n",
       "\\end{tabular}\n"
      ],
      "text/plain": [
       "10×3 DataFrame\n",
       "│ Row │ N       │ K       │ eta     │\n",
       "│     │ \u001b[90mFloat64\u001b[39m │ \u001b[90mFloat64\u001b[39m │ \u001b[90mFloat64\u001b[39m │\n",
       "├─────┼─────────┼─────────┼─────────┤\n",
       "│ 1   │ 137.0   │ 7.0     │ 2.01618 │\n",
       "│ 2   │ 188.0   │ 9.0     │ 1.44728 │\n",
       "│ 3   │ 125.0   │ 8.0     │ 1.92119 │\n",
       "│ 4   │ 247.0   │ 5.0     │ 1.19884 │\n",
       "│ 5   │ 189.0   │ 3.0     │ 1.36896 │\n",
       "│ 6   │ 154.0   │ 5.0     │ 1.36247 │\n",
       "│ 7   │ 204.0   │ 8.0     │ 1.01588 │\n",
       "│ 8   │ 181.0   │ 4.0     │ 1.59761 │\n",
       "│ 9   │ 179.0   │ 10.0    │ 1.78571 │\n",
       "│ 10  │ 137.0   │ 7.0     │ 2.01618 │"
      ]
     },
     "execution_count": 26,
     "metadata": {},
     "output_type": "execute_result"
    }
   ],
   "source": [
    "df =  getBestParms(\"eca\")\n",
    "df"
   ]
  },
  {
   "cell_type": "code",
   "execution_count": 27,
   "metadata": {},
   "outputs": [
    {
     "data": {
      "text/html": [
       "<table class=\"data-frame\"><thead><tr><th></th><th>N</th><th>F</th><th>CR</th></tr><tr><th></th><th>Float64</th><th>Float64</th><th>Float64</th></tr></thead><tbody><p>10 rows × 3 columns</p><tr><th>1</th><td>13.0</td><td>0.462729</td><td>0.117163</td></tr><tr><th>2</th><td>35.0</td><td>0.468767</td><td>0.865054</td></tr><tr><th>3</th><td>22.0</td><td>0.987232</td><td>0.78687</td></tr><tr><th>4</th><td>13.0</td><td>0.744198</td><td>0.236023</td></tr><tr><th>5</th><td>26.0</td><td>0.575771</td><td>0.817107</td></tr><tr><th>6</th><td>13.0</td><td>0.5337</td><td>0.200412</td></tr><tr><th>7</th><td>16.0</td><td>0.499888</td><td>0.173194</td></tr><tr><th>8</th><td>57.0</td><td>0.600528</td><td>0.97588</td></tr><tr><th>9</th><td>14.0</td><td>0.495335</td><td>0.317386</td></tr><tr><th>10</th><td>13.0</td><td>0.462729</td><td>0.117163</td></tr></tbody></table>"
      ],
      "text/latex": [
       "\\begin{tabular}{r|ccc}\n",
       "\t& N & F & CR\\\\\n",
       "\t\\hline\n",
       "\t& Float64 & Float64 & Float64\\\\\n",
       "\t\\hline\n",
       "\t1 & 13.0 & 0.462729 & 0.117163 \\\\\n",
       "\t2 & 35.0 & 0.468767 & 0.865054 \\\\\n",
       "\t3 & 22.0 & 0.987232 & 0.78687 \\\\\n",
       "\t4 & 13.0 & 0.744198 & 0.236023 \\\\\n",
       "\t5 & 26.0 & 0.575771 & 0.817107 \\\\\n",
       "\t6 & 13.0 & 0.5337 & 0.200412 \\\\\n",
       "\t7 & 16.0 & 0.499888 & 0.173194 \\\\\n",
       "\t8 & 57.0 & 0.600528 & 0.97588 \\\\\n",
       "\t9 & 14.0 & 0.495335 & 0.317386 \\\\\n",
       "\t10 & 13.0 & 0.462729 & 0.117163 \\\\\n",
       "\\end{tabular}\n"
      ],
      "text/plain": [
       "10×3 DataFrame\n",
       "│ Row │ N       │ F        │ CR       │\n",
       "│     │ \u001b[90mFloat64\u001b[39m │ \u001b[90mFloat64\u001b[39m  │ \u001b[90mFloat64\u001b[39m  │\n",
       "├─────┼─────────┼──────────┼──────────┤\n",
       "│ 1   │ 13.0    │ 0.462729 │ 0.117163 │\n",
       "│ 2   │ 35.0    │ 0.468767 │ 0.865054 │\n",
       "│ 3   │ 22.0    │ 0.987232 │ 0.78687  │\n",
       "│ 4   │ 13.0    │ 0.744198 │ 0.236023 │\n",
       "│ 5   │ 26.0    │ 0.575771 │ 0.817107 │\n",
       "│ 6   │ 13.0    │ 0.5337   │ 0.200412 │\n",
       "│ 7   │ 16.0    │ 0.499888 │ 0.173194 │\n",
       "│ 8   │ 57.0    │ 0.600528 │ 0.97588  │\n",
       "│ 9   │ 14.0    │ 0.495335 │ 0.317386 │\n",
       "│ 10  │ 13.0    │ 0.462729 │ 0.117163 │"
      ]
     },
     "execution_count": 27,
     "metadata": {},
     "output_type": "execute_result"
    }
   ],
   "source": [
    "df =  getBestParms(\"ed\")\n",
    "df"
   ]
  },
  {
   "cell_type": "code",
   "execution_count": 28,
   "metadata": {},
   "outputs": [
    {
     "data": {
      "text/html": [
       "<table class=\"data-frame\"><thead><tr><th></th><th>N</th><th>C1</th><th>C2</th><th>omega</th></tr><tr><th></th><th>Float64</th><th>Float64</th><th>Float64</th><th>Float64</th></tr></thead><tbody><p>10 rows × 4 columns</p><tr><th>1</th><td>414.0</td><td>0.914002</td><td>2.90323</td><td>0.36353</td></tr><tr><th>2</th><td>433.0</td><td>0.786563</td><td>3.2032</td><td>0.382314</td></tr><tr><th>3</th><td>381.0</td><td>3.15365</td><td>0.923493</td><td>0.534409</td></tr><tr><th>4</th><td>344.0</td><td>0.324315</td><td>3.2211</td><td>0.492841</td></tr><tr><th>5</th><td>351.0</td><td>2.19329</td><td>1.89468</td><td>0.625818</td></tr><tr><th>6</th><td>297.0</td><td>0.488361</td><td>2.89199</td><td>0.479847</td></tr><tr><th>7</th><td>488.0</td><td>0.374345</td><td>1.1869</td><td>0.753773</td></tr><tr><th>8</th><td>371.0</td><td>2.24618</td><td>1.92512</td><td>0.678153</td></tr><tr><th>9</th><td>324.0</td><td>3.4954</td><td>0.792152</td><td>0.550182</td></tr><tr><th>10</th><td>414.0</td><td>0.914002</td><td>2.90323</td><td>0.36353</td></tr></tbody></table>"
      ],
      "text/latex": [
       "\\begin{tabular}{r|cccc}\n",
       "\t& N & C1 & C2 & omega\\\\\n",
       "\t\\hline\n",
       "\t& Float64 & Float64 & Float64 & Float64\\\\\n",
       "\t\\hline\n",
       "\t1 & 414.0 & 0.914002 & 2.90323 & 0.36353 \\\\\n",
       "\t2 & 433.0 & 0.786563 & 3.2032 & 0.382314 \\\\\n",
       "\t3 & 381.0 & 3.15365 & 0.923493 & 0.534409 \\\\\n",
       "\t4 & 344.0 & 0.324315 & 3.2211 & 0.492841 \\\\\n",
       "\t5 & 351.0 & 2.19329 & 1.89468 & 0.625818 \\\\\n",
       "\t6 & 297.0 & 0.488361 & 2.89199 & 0.479847 \\\\\n",
       "\t7 & 488.0 & 0.374345 & 1.1869 & 0.753773 \\\\\n",
       "\t8 & 371.0 & 2.24618 & 1.92512 & 0.678153 \\\\\n",
       "\t9 & 324.0 & 3.4954 & 0.792152 & 0.550182 \\\\\n",
       "\t10 & 414.0 & 0.914002 & 2.90323 & 0.36353 \\\\\n",
       "\\end{tabular}\n"
      ],
      "text/plain": [
       "10×4 DataFrame\n",
       "│ Row │ N       │ C1       │ C2       │ omega    │\n",
       "│     │ \u001b[90mFloat64\u001b[39m │ \u001b[90mFloat64\u001b[39m  │ \u001b[90mFloat64\u001b[39m  │ \u001b[90mFloat64\u001b[39m  │\n",
       "├─────┼─────────┼──────────┼──────────┼──────────┤\n",
       "│ 1   │ 414.0   │ 0.914002 │ 2.90323  │ 0.36353  │\n",
       "│ 2   │ 433.0   │ 0.786563 │ 3.2032   │ 0.382314 │\n",
       "│ 3   │ 381.0   │ 3.15365  │ 0.923493 │ 0.534409 │\n",
       "│ 4   │ 344.0   │ 0.324315 │ 3.2211   │ 0.492841 │\n",
       "│ 5   │ 351.0   │ 2.19329  │ 1.89468  │ 0.625818 │\n",
       "│ 6   │ 297.0   │ 0.488361 │ 2.89199  │ 0.479847 │\n",
       "│ 7   │ 488.0   │ 0.374345 │ 1.1869   │ 0.753773 │\n",
       "│ 8   │ 371.0   │ 2.24618  │ 1.92512  │ 0.678153 │\n",
       "│ 9   │ 324.0   │ 3.4954   │ 0.792152 │ 0.550182 │\n",
       "│ 10  │ 414.0   │ 0.914002 │ 2.90323  │ 0.36353  │"
      ]
     },
     "execution_count": 28,
     "metadata": {},
     "output_type": "execute_result"
    }
   ],
   "source": [
    "df =  getBestParms(\"pso\")\n",
    "df"
   ]
  },
  {
   "cell_type": "markdown",
   "metadata": {},
   "source": [
    "# BCAP Results"
   ]
  },
  {
   "cell_type": "code",
   "execution_count": 29,
   "metadata": {},
   "outputs": [
    {
     "data": {
      "text/html": [
       "<table class=\"data-frame\"><thead><tr><th></th><th>x1</th><th>x2</th><th>x3</th></tr><tr><th></th><th>Float64</th><th>Float64</th><th>Float64</th></tr></thead><tbody><p>10 rows × 3 columns</p><tr><th>1</th><td>295.0</td><td>0.22345</td><td>690.0</td></tr><tr><th>2</th><td>318.0</td><td>0.337503</td><td>445.0</td></tr><tr><th>3</th><td>361.0</td><td>0.40587</td><td>698.0</td></tr><tr><th>4</th><td>345.0</td><td>0.50582</td><td>836.0</td></tr><tr><th>5</th><td>265.0</td><td>0.387981</td><td>422.0</td></tr><tr><th>6</th><td>353.0</td><td>0.433214</td><td>426.0</td></tr><tr><th>7</th><td>323.0</td><td>0.567853</td><td>743.0</td></tr><tr><th>8</th><td>309.0</td><td>0.487398</td><td>565.0</td></tr><tr><th>9</th><td>289.0</td><td>0.461595</td><td>642.0</td></tr><tr><th>10</th><td>231.0</td><td>0.360924</td><td>341.0</td></tr></tbody></table>"
      ],
      "text/latex": [
       "\\begin{tabular}{r|ccc}\n",
       "\t& x1 & x2 & x3\\\\\n",
       "\t\\hline\n",
       "\t& Float64 & Float64 & Float64\\\\\n",
       "\t\\hline\n",
       "\t1 & 295.0 & 0.22345 & 690.0 \\\\\n",
       "\t2 & 318.0 & 0.337503 & 445.0 \\\\\n",
       "\t3 & 361.0 & 0.40587 & 698.0 \\\\\n",
       "\t4 & 345.0 & 0.50582 & 836.0 \\\\\n",
       "\t5 & 265.0 & 0.387981 & 422.0 \\\\\n",
       "\t6 & 353.0 & 0.433214 & 426.0 \\\\\n",
       "\t7 & 323.0 & 0.567853 & 743.0 \\\\\n",
       "\t8 & 309.0 & 0.487398 & 565.0 \\\\\n",
       "\t9 & 289.0 & 0.461595 & 642.0 \\\\\n",
       "\t10 & 231.0 & 0.360924 & 341.0 \\\\\n",
       "\\end{tabular}\n"
      ],
      "text/plain": [
       "10×3 DataFrame\n",
       "│ Row │ x1      │ x2       │ x3      │\n",
       "│     │ \u001b[90mFloat64\u001b[39m │ \u001b[90mFloat64\u001b[39m  │ \u001b[90mFloat64\u001b[39m │\n",
       "├─────┼─────────┼──────────┼─────────┤\n",
       "│ 1   │ 295.0   │ 0.22345  │ 690.0   │\n",
       "│ 2   │ 318.0   │ 0.337503 │ 445.0   │\n",
       "│ 3   │ 361.0   │ 0.40587  │ 698.0   │\n",
       "│ 4   │ 345.0   │ 0.50582  │ 836.0   │\n",
       "│ 5   │ 265.0   │ 0.387981 │ 422.0   │\n",
       "│ 6   │ 353.0   │ 0.433214 │ 426.0   │\n",
       "│ 7   │ 323.0   │ 0.567853 │ 743.0   │\n",
       "│ 8   │ 309.0   │ 0.487398 │ 565.0   │\n",
       "│ 9   │ 289.0   │ 0.461595 │ 642.0   │\n",
       "│ 10  │ 231.0   │ 0.360924 │ 341.0   │"
      ]
     },
     "execution_count": 29,
     "metadata": {},
     "output_type": "execute_result"
    }
   ],
   "source": [
    "function getBestParmsBCAP(name)\n",
    "    matrix = []\n",
    "    for i =1:10\n",
    "        fname = \"data/bcap/\" + uppercase(name) + \"_result_CEC17_D10_seed1560229400_run$(i).jld\"\n",
    "        best_sol = load(fname, \"result\").best_sol\n",
    "        push!(matrix, best_sol.x)\n",
    "    end\n",
    "\n",
    "    \n",
    "    matrix = [ matrix[i][j] for i=1:length(matrix), j=1:length(matrix[1]) ]\n",
    "    \n",
    "    return DataFrame(matrix)\n",
    "    \n",
    "end\n",
    "\n",
    "df = getBestParmsBCAP(\"abc\")\n"
   ]
  },
  {
   "cell_type": "markdown",
   "metadata": {},
   "source": [
    "<hr>"
   ]
  },
  {
   "cell_type": "code",
   "execution_count": 157,
   "metadata": {},
   "outputs": [
    {
     "data": {
      "text/html": [
       "<table class=\"data-frame\"><thead><tr><th></th><th>x1</th><th>x2</th><th>x3</th><th>SRatio</th></tr><tr><th></th><th>Float64</th><th>Float64</th><th>Float64</th><th>Float64</th></tr></thead><tbody><p>10 rows × 4 columns</p><tr><th>1</th><td>86.0</td><td>0.491746</td><td>0.975912</td><td>0.5</td></tr><tr><th>2</th><td>76.0</td><td>0.512065</td><td>0.681942</td><td>0.5</td></tr><tr><th>3</th><td>22.0</td><td>0.743531</td><td>0.521512</td><td>0.5</td></tr><tr><th>4</th><td>84.0</td><td>0.433804</td><td>0.955459</td><td>0.5</td></tr><tr><th>5</th><td>72.0</td><td>0.711745</td><td>0.917011</td><td>0.5</td></tr><tr><th>6</th><td>32.0</td><td>0.526323</td><td>0.74844</td><td>0.5</td></tr><tr><th>7</th><td>26.0</td><td>0.370317</td><td>0.210903</td><td>0.46</td></tr><tr><th>8</th><td>15.0</td><td>0.59966</td><td>0.160132</td><td>0.44</td></tr><tr><th>9</th><td>391.0</td><td>0.38343</td><td>0.967797</td><td>0.3</td></tr><tr><th>10</th><td>22.0</td><td>0.440271</td><td>0.149206</td><td>0.27</td></tr></tbody></table>"
      ],
      "text/latex": [
       "\\begin{tabular}{r|cccc}\n",
       "\t& x1 & x2 & x3 & SRatio\\\\\n",
       "\t\\hline\n",
       "\t& Float64 & Float64 & Float64 & Float64\\\\\n",
       "\t\\hline\n",
       "\t1 & 86.0 & 0.491746 & 0.975912 & 0.5 \\\\\n",
       "\t2 & 76.0 & 0.512065 & 0.681942 & 0.5 \\\\\n",
       "\t3 & 22.0 & 0.743531 & 0.521512 & 0.5 \\\\\n",
       "\t4 & 84.0 & 0.433804 & 0.955459 & 0.5 \\\\\n",
       "\t5 & 72.0 & 0.711745 & 0.917011 & 0.5 \\\\\n",
       "\t6 & 32.0 & 0.526323 & 0.74844 & 0.5 \\\\\n",
       "\t7 & 26.0 & 0.370317 & 0.210903 & 0.46 \\\\\n",
       "\t8 & 15.0 & 0.59966 & 0.160132 & 0.44 \\\\\n",
       "\t9 & 391.0 & 0.38343 & 0.967797 & 0.3 \\\\\n",
       "\t10 & 22.0 & 0.440271 & 0.149206 & 0.27 \\\\\n",
       "\\end{tabular}\n"
      ],
      "text/plain": [
       "10×4 DataFrame\n",
       "│ Row │ x1      │ x2       │ x3       │ SRatio  │\n",
       "│     │ \u001b[90mFloat64\u001b[39m │ \u001b[90mFloat64\u001b[39m  │ \u001b[90mFloat64\u001b[39m  │ \u001b[90mFloat64\u001b[39m │\n",
       "├─────┼─────────┼──────────┼──────────┼─────────┤\n",
       "│ 1   │ 86.0    │ 0.491746 │ 0.975912 │ 0.5     │\n",
       "│ 2   │ 76.0    │ 0.512065 │ 0.681942 │ 0.5     │\n",
       "│ 3   │ 22.0    │ 0.743531 │ 0.521512 │ 0.5     │\n",
       "│ 4   │ 84.0    │ 0.433804 │ 0.955459 │ 0.5     │\n",
       "│ 5   │ 72.0    │ 0.711745 │ 0.917011 │ 0.5     │\n",
       "│ 6   │ 32.0    │ 0.526323 │ 0.74844  │ 0.5     │\n",
       "│ 7   │ 26.0    │ 0.370317 │ 0.210903 │ 0.46    │\n",
       "│ 8   │ 15.0    │ 0.59966  │ 0.160132 │ 0.44    │\n",
       "│ 9   │ 391.0   │ 0.38343  │ 0.967797 │ 0.3     │\n",
       "│ 10  │ 22.0    │ 0.440271 │ 0.149206 │ 0.27    │"
      ]
     },
     "execution_count": 157,
     "metadata": {},
     "output_type": "execute_result"
    }
   ],
   "source": [
    "\n",
    "function getBCAPData(name, i)\n",
    "    fname = \"data/bcap/\" + uppercase(name) + \"_result_CEC17_D10_seed1560229400_run$(i).jld\"\n",
    "    load(fname, \"result\")\n",
    "end\n",
    "\n",
    "function getBestBCAP(pop)\n",
    "    matrix = zeros(Int, length(pop), length(pop))\n",
    "    for i =1:length(pop)\n",
    "        for j=1:length(pop)\n",
    "            i == j && continue\n",
    "            for fn = 1:10\n",
    "                s1 = pop[i].y[fn,:]\n",
    "                s2 = pop[j].y[fn,:]\n",
    "                matrix[i, j] += pvalue(SignedRankTest(s1, s2)) < 0.05 && median(s1) < median(s2)\n",
    "            end\n",
    "        end\n",
    "    end\n",
    "\n",
    "    score = sum(matrix, dims = 2)\n",
    "   \n",
    "    return pop[argmax(score)]\n",
    "end\n",
    "\n",
    "function getBestParmsBCAP(name)\n",
    "    matrix = []\n",
    "    for i =1:10\n",
    "        res = getBCAPData(name, i)\n",
    "        #best_sol = res.best_sol\n",
    "        best_sol = getBestBCAP(res.population)\n",
    "        \n",
    "        s = mean(best_sol.y .== 0.0)\n",
    "        x = best_sol.x\n",
    "        if name == \"abc\"\n",
    "            push!(matrix, [x[1:end-2]...,x[end], x[end-1], s])\n",
    "        else\n",
    "            push!(matrix, [x..., s])\n",
    "        end\n",
    "        \n",
    "    end\n",
    "\n",
    "    matrix = [ matrix[i][j] for i=1:length(matrix), j=1:length(matrix[1]) ]\n",
    "    \n",
    "    \n",
    "    df = DataFrame(matrix)\n",
    "    n = names(df)\n",
    "    n[end] = :SRatio\n",
    "    \n",
    "    names!(df, n)\n",
    "    sort!(df, :SRatio, rev=true)\n",
    "    df\n",
    "end\n",
    "\n",
    "getBestParmsBCAP(\"de\")"
   ]
  },
  {
   "cell_type": "code",
   "execution_count": 158,
   "metadata": {},
   "outputs": [
    {
     "data": {
      "text/html": [
       "<table class=\"data-frame\"><thead><tr><th></th><th>bcap_N</th><th>bcap_limit</th><th>bcap_Ne</th><th>irace_N</th><th>irace_limit</th><th>irace_Ne</th></tr><tr><th></th><th>Float64</th><th>Float64</th><th>Float64</th><th>Float64</th><th>Float64</th><th>Float64</th></tr></thead><tbody><p>10 rows × 6 columns</p><tr><th>1</th><td>254.0</td><td>949.0</td><td>0.288465</td><td>273.0</td><td>216.0</td><td>0.179173</td></tr><tr><th>2</th><td>292.0</td><td>326.0</td><td>0.378883</td><td>357.0</td><td>722.0</td><td>0.555798</td></tr><tr><th>3</th><td>295.0</td><td>690.0</td><td>0.22345</td><td>273.0</td><td>216.0</td><td>0.179173</td></tr><tr><th>4</th><td>353.0</td><td>486.0</td><td>0.410992</td><td>301.0</td><td>187.0</td><td>0.291851</td></tr><tr><th>5</th><td>340.0</td><td>324.0</td><td>0.473353</td><td>320.0</td><td>170.0</td><td>0.210675</td></tr><tr><th>6</th><td>341.0</td><td>801.0</td><td>0.501753</td><td>317.0</td><td>83.0</td><td>0.249801</td></tr><tr><th>7</th><td>371.0</td><td>538.0</td><td>0.493897</td><td>325.0</td><td>72.0</td><td>0.442315</td></tr><tr><th>8</th><td>395.0</td><td>394.0</td><td>0.352415</td><td>352.0</td><td>783.0</td><td>0.318848</td></tr><tr><th>9</th><td>374.0</td><td>924.0</td><td>0.407581</td><td>270.0</td><td>164.0</td><td>0.374526</td></tr><tr><th>10</th><td>360.0</td><td>273.0</td><td>0.530335</td><td>253.0</td><td>435.0</td><td>0.312723</td></tr></tbody></table>"
      ],
      "text/latex": [
       "\\begin{tabular}{r|cccccc}\n",
       "\t& bcap\\_N & bcap\\_limit & bcap\\_Ne & irace\\_N & irace\\_limit & irace\\_Ne\\\\\n",
       "\t\\hline\n",
       "\t& Float64 & Float64 & Float64 & Float64 & Float64 & Float64\\\\\n",
       "\t\\hline\n",
       "\t1 & 254.0 & 949.0 & 0.288465 & 273.0 & 216.0 & 0.179173 \\\\\n",
       "\t2 & 292.0 & 326.0 & 0.378883 & 357.0 & 722.0 & 0.555798 \\\\\n",
       "\t3 & 295.0 & 690.0 & 0.22345 & 273.0 & 216.0 & 0.179173 \\\\\n",
       "\t4 & 353.0 & 486.0 & 0.410992 & 301.0 & 187.0 & 0.291851 \\\\\n",
       "\t5 & 340.0 & 324.0 & 0.473353 & 320.0 & 170.0 & 0.210675 \\\\\n",
       "\t6 & 341.0 & 801.0 & 0.501753 & 317.0 & 83.0 & 0.249801 \\\\\n",
       "\t7 & 371.0 & 538.0 & 0.493897 & 325.0 & 72.0 & 0.442315 \\\\\n",
       "\t8 & 395.0 & 394.0 & 0.352415 & 352.0 & 783.0 & 0.318848 \\\\\n",
       "\t9 & 374.0 & 924.0 & 0.407581 & 270.0 & 164.0 & 0.374526 \\\\\n",
       "\t10 & 360.0 & 273.0 & 0.530335 & 253.0 & 435.0 & 0.312723 \\\\\n",
       "\\end{tabular}\n"
      ],
      "text/plain": [
       "10×6 DataFrame\n",
       "│ Row │ bcap_N  │ bcap_limit │ bcap_Ne  │ irace_N │ irace_limit │ irace_Ne │\n",
       "│     │ \u001b[90mFloat64\u001b[39m │ \u001b[90mFloat64\u001b[39m    │ \u001b[90mFloat64\u001b[39m  │ \u001b[90mFloat64\u001b[39m │ \u001b[90mFloat64\u001b[39m     │ \u001b[90mFloat64\u001b[39m  │\n",
       "├─────┼─────────┼────────────┼──────────┼─────────┼─────────────┼──────────┤\n",
       "│ 1   │ 254.0   │ 949.0      │ 0.288465 │ 273.0   │ 216.0       │ 0.179173 │\n",
       "│ 2   │ 292.0   │ 326.0      │ 0.378883 │ 357.0   │ 722.0       │ 0.555798 │\n",
       "│ 3   │ 295.0   │ 690.0      │ 0.22345  │ 273.0   │ 216.0       │ 0.179173 │\n",
       "│ 4   │ 353.0   │ 486.0      │ 0.410992 │ 301.0   │ 187.0       │ 0.291851 │\n",
       "│ 5   │ 340.0   │ 324.0      │ 0.473353 │ 320.0   │ 170.0       │ 0.210675 │\n",
       "│ 6   │ 341.0   │ 801.0      │ 0.501753 │ 317.0   │ 83.0        │ 0.249801 │\n",
       "│ 7   │ 371.0   │ 538.0      │ 0.493897 │ 325.0   │ 72.0        │ 0.442315 │\n",
       "│ 8   │ 395.0   │ 394.0      │ 0.352415 │ 352.0   │ 783.0       │ 0.318848 │\n",
       "│ 9   │ 374.0   │ 924.0      │ 0.407581 │ 270.0   │ 164.0       │ 0.374526 │\n",
       "│ 10  │ 360.0   │ 273.0      │ 0.530335 │ 253.0   │ 435.0       │ 0.312723 │"
      ]
     },
     "execution_count": 158,
     "metadata": {},
     "output_type": "execute_result"
    }
   ],
   "source": [
    "function mergeResults(name)\n",
    "    df_irace =  getBestParms(name)\n",
    "    df_bcap= getBestParmsBCAP(name)[:,1:end-1] # SRatio is not considered\n",
    "    \n",
    "    nms = String.(names(df_irace))\n",
    "    names1 = \"bcap_\" .+ nms\n",
    "    names2 = \"irace_\" .+ nms\n",
    "\n",
    "\n",
    "    df = hcat(df_bcap, df_irace)\n",
    "    names!(df, Symbol.([ names1..., names2...  ]))\n",
    "end\n",
    "\n",
    "mergeResults(\"abc\")"
   ]
  },
  {
   "cell_type": "code",
   "execution_count": null,
   "metadata": {},
   "outputs": [],
   "source": []
  }
 ],
 "metadata": {
  "@webio": {
   "lastCommId": null,
   "lastKernelId": null
  },
  "kernelspec": {
   "display_name": "Julia 1.1.0",
   "language": "julia",
   "name": "julia-1.1"
  },
  "language_info": {
   "file_extension": ".jl",
   "mimetype": "application/julia",
   "name": "julia",
   "version": "1.1.0"
  }
 },
 "nbformat": 4,
 "nbformat_minor": 2
}
